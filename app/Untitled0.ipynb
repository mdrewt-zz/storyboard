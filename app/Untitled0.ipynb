{
 "metadata": {
  "name": "",
  "signature": "sha256:caab641adae20b059b426daab56c17aab137a4610e6fbd4b58718d3a91f42840"
 },
 "nbformat": 3,
 "nbformat_minor": 0,
 "worksheets": []
}